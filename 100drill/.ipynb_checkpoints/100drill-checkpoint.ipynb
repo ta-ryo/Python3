{
 "cells": [
  {
   "cell_type": "code",
   "execution_count": 2,
   "metadata": {},
   "outputs": [],
   "source": [
    "#ここでは言語処理100本ノックを解いていく。"
   ]
  },
  {
   "cell_type": "code",
   "execution_count": 3,
   "metadata": {},
   "outputs": [
    {
     "name": "stdout",
     "output_type": "stream",
     "text": [
      "desserts\n"
     ]
    }
   ],
   "source": [
    "#00:文字列\"stressed\"の文字を逆に（末尾から先頭に向かって）並べた文字列を得よ．\n",
    "a = \"stressed\"\n",
    "# a[開始位置:終了位置:順番{defo 1}]\n",
    "print(a[::-1])"
   ]
  },
  {
   "cell_type": "code",
   "execution_count": 4,
   "metadata": {},
   "outputs": [
    {
     "name": "stdout",
     "output_type": "stream",
     "text": [
      "パトカー\n"
     ]
    }
   ],
   "source": [
    "#01:「パタトクカシーー」という文字列の1,3,5,7文字目を取り出して連結した文字列を得よ．\n",
    "a = \"パタトクカシーー\"\n",
    "print(a[::2])\n",
    "# 別案\n",
    "b = \"\".join(a[i] for i in [1,3,5,7])\n",
    "#print(b)"
   ]
  },
  {
   "cell_type": "code",
   "execution_count": 5,
   "metadata": {},
   "outputs": [
    {
     "name": "stdout",
     "output_type": "stream",
     "text": [
      "パタトクカシーー\n"
     ]
    }
   ],
   "source": [
    "#02:「パトカー」＋「タクシー」の文字を先頭から交互に連結して文字列「パタトクカシーー」を得よ．\n",
    "a = \"パトカー\"\n",
    "b = \"タクシー\"\n",
    "r = [[i[0],i[1]] for i in zip(a,b)]\n",
    "# zip()は複数の引数の要素をまとめる関数。ここではstr(a),str(b)をまとめた。\n",
    "# i[0]はa[要素] i[1]はb[要素]を一文字目からlist格納\n",
    "# >> print(r)  >> [['パ', 'タ'], ['ト', 'ク'], ['カ', 'シ'], ['ー', 'ー']]\n",
    "print(\"\".join([\"\".join(i) for i in r]))\n",
    "# >> print([\"\".join(i) for i in r]) >> ['パタ', 'トク', 'カシ', 'ーー']"
   ]
  },
  {
   "cell_type": "code",
   "execution_count": 6,
   "metadata": {},
   "outputs": [
    {
     "name": "stdout",
     "output_type": "stream",
     "text": [
      "[3, 1, 4, 1, 5, 9, 2, 6, 5, 3, 5, 8, 9, 7, 9]\n"
     ]
    }
   ],
   "source": [
    "# 03:\"Now I need a drink, alcoholic of course, after the heavy lectures involving quantum mechanics.\"という文を単語に分解し，各単語の（アルファベットの）文字数を先頭から出現順に並べたリストを作成せよ．\n",
    "a = \"Now I need a drink, alcoholic of course, after the heavy lectures involving quantum mechanics.\"\n",
    "ans = []\n",
    "for i in a.split(\" \"):\n",
    "    count = 0\n",
    "    for b in i:\n",
    "        if b not in ('.',','):\n",
    "            count += 1\n",
    "    ans.append(count)\n",
    "print(ans)\n"
   ]
  },
  {
   "cell_type": "code",
   "execution_count": 7,
   "metadata": {},
   "outputs": [
    {
     "name": "stdout",
     "output_type": "stream",
     "text": [
      "{0: 'Hi', 1: 'H', 2: 'Li', 3: 'Be', 4: 'Bo', 5: 'C', 6: 'N', 7: 'O', 8: 'F', 9: 'N', 10: 'Na', 11: 'Mi', 12: 'Al', 13: 'Si', 14: 'Pe', 15: 'S', 16: 'C', 17: 'Ar', 18: 'Ki', 19: 'C'}\n"
     ]
    }
   ],
   "source": [
    "\"\"\"04\n",
    "\"Hi He Lied Because Boron Could Not Oxidize Fluorine. New Nations Might Also Sign Peace Security Clause. Arthur King Can.\"という文を\n",
    "単語に分解し，1, 5, 6, 7, 8, 9, 15, 16, 19番目の単語は先頭の1文字，それ以外の単語は先頭に2文字を取り出し，\n",
    "取り出した文字列から単語の位置（先頭から何番目の単語か）への連想配列（辞書型もしくはマップ型）を作成せよ．\n",
    "\"\"\"\n",
    "a = \"Hi He Lied Because Boron Could Not Oxidize Fluorine. New Nations Might Also Sign Peace Security Clause. Arthur King Can.\"\n",
    "b = [1,5,6,7,8,9,15,16,19]\n",
    "dic = {}\n",
    "for (i,j) in enumerate(a.split(\" \")):\n",
    "    if i in b: #inの使い方は英語と同じ\n",
    "        dic[i] = j[0]\n",
    "    else:\n",
    "        dic[i] = j[:2]\n",
    "print(dic)\n"
   ]
  },
  {
   "cell_type": "code",
   "execution_count": 8,
   "metadata": {},
   "outputs": [
    {
     "name": "stdout",
     "output_type": "stream",
     "text": [
      "['I ', ' a', 'am', 'm ', ' a', 'an', 'n ', ' N', 'NL', 'LP', 'Pe', 'er']\n"
     ]
    }
   ],
   "source": [
    "\"\"\"05\n",
    "与えられたシーケンス（文字列やリストなど）からn-gramを作る関数を作成せよ．\n",
    "この関数を用い，\"I am an NLPer\"という文から単語bi-gram，文字bi-gramを得よ．\n",
    "\"\"\"\n",
    "def gram(seq,n):\n",
    "    return([ seq[ct:ct + n] for ct in range(len(seq) - n + 1)])\n",
    "\n",
    "\"\"\"\n",
    "任意の文字列や文書を連続したn個の文字で分割するテキスト分割方法．\n",
    "「図書館情報学」を2(bi)-gramで分割すると，「図書」「書館」「館情」「情報」「報学」となる\n",
    "\"\"\"\n",
    "\n",
    "a = \"I am an NLPer\"\n",
    "b = a.split()\n",
    "# ctはcountの意味\n",
    "print(gram(a,2))"
   ]
  },
  {
   "cell_type": "code",
   "execution_count": 9,
   "metadata": {},
   "outputs": [
    {
     "name": "stdout",
     "output_type": "stream",
     "text": [
      "{'ap', 'pa', 'ra', 'ar'}\n",
      "{'ad', 'is', 'se', 'di'}\n",
      "{'ag', 'gr', 'ph'}\n",
      "{'ph', 'ad', 'di', 'ag', 'se', 'is', 'gr'}\n",
      "{'ra', 'ph', 'ad', 'ap', 'di', 'ag', 'pa', 'is', 'se', 'ar', 'gr'}\n",
      "{'ra', 'ph', 'ad', 'ap', 'di', 'ag', 'pa', 'is', 'se', 'ar', 'gr'}\n",
      "True\n",
      "False\n"
     ]
    }
   ],
   "source": [
    "\"\"\"06\n",
    "\"paraparaparadise\"と\"paragraph\"に含まれる文字bi-gramの集合を，\n",
    "それぞれ, XとYとして求め，XとYの和集合，積集合，差集合を求めよ．\n",
    "さらに，'se'というbi-gramがXおよびYに含まれるかどうかを調べよ．\n",
    "\"\"\"\n",
    "\n",
    "\"\"\"\n",
    "set型は重複しない要素（同じ値ではない要素、ユニークな要素）のコレクションで、\n",
    "和集合、積集合、差集合などの集合演算を行うことができる。\n",
    "\"\"\"\n",
    "\n",
    "a = \"paraparaparadise\"\n",
    "b = \"paragraph\"\n",
    "\n",
    "def bigram(seq):\n",
    "    return( [seq[ct:ct + 2] for ct in range(len(seq) - 2 + 1)] )\n",
    "\n",
    "X = bigram(a)\n",
    "Y = bigram(b)\n",
    "\n",
    "#積集合\n",
    "m = [i for i in Y if i in X ]\n",
    "print(set(m))\n",
    "\n",
    "#差集合 y^c\n",
    "s = [i for i in X if i not in Y ]\n",
    "print(set(s))\n",
    "\n",
    "#差集合 x^c\n",
    "d = [i for i in Y if i not in X ]\n",
    "print(set(d))\n",
    "\n",
    "#それの足し算 積集合以外\n",
    "sd = s+d\n",
    "print(set(sd))\n",
    "\n",
    "#積集合 + 排反関係を作ったAとB　= 和集合\n",
    "u = m + sd\n",
    "print(set(u))\n",
    "#別解\n",
    "setX = set(X)\n",
    "setY = set(Y)\n",
    "_sum = setX.union(setY)\n",
    "print(_sum)\n",
    "\n",
    "n = \"se\"\n",
    "print('se'in X)\n",
    "print('se' in Y)\n"
   ]
  },
  {
   "cell_type": "code",
   "execution_count": 10,
   "metadata": {},
   "outputs": [
    {
     "name": "stdout",
     "output_type": "stream",
     "text": [
      "12時の気温は22.4\n"
     ]
    }
   ],
   "source": [
    "\"\"\"07\n",
    "引数x, y, zを受け取り「x時のyはz」という文字列を返す関数を実装せよ．\n",
    "さらに，x=12, y=\"気温\", z=22.4として，実行結果を確認せよ．\n",
    "\"\"\"\n",
    "\n",
    "\"\"\"\n",
    ".format()による文字作成。{}の数字の順番にformat関数の中に入れる\n",
    "型変数がわからなくてもしっかり文章に出来るので有用的である。\n",
    "\"\"\"\n",
    "def temprint(x,y,z):\n",
    "    return \"{0}時の{1}は{2}\".format(x,y,z)\n",
    "\n",
    "print(temprint(12,\"気温\",\"22.4\"))"
   ]
  },
  {
   "cell_type": "code",
   "execution_count": 11,
   "metadata": {},
   "outputs": [
    {
     "name": "stdout",
     "output_type": "stream",
     "text": [
      "I zn Omrlm\n",
      "I am Onion\n"
     ]
    }
   ],
   "source": [
    "\"\"\"08\n",
    "与えられた文字列の各文字を，以下の仕様で変換する関数cipherを実装せよ．\n",
    "\n",
    "英小文字ならば(219 - 文字コード)の文字に置換\n",
    "その他の文字はそのまま出力\n",
    "この関数を用い，英語のメッセージを暗号化・復号化せよ．\n",
    "\"\"\"\n",
    "\n",
    "\"\"\"\n",
    "正規表現のパターン文字列を定義するときは、クォーテーションの前に r を付て利用した方が良いです。\n",
    "正規表現にはバックスラッシュを使用したパターンが存在するため、r を付けることによって raw 文字列として扱われ、\n",
    "エスケープシーケンスを無効にしてくれます。\n",
    "\"\"\"\n",
    "\n",
    "\"\"\"\n",
    "lambda関数は無名関数。\n",
    "lambda 引数: 返り値という形でかく。\n",
    "def return_twice(n):　　return n * 2　　＝＝ lambda n: n * 2\n",
    "m.group(0)で[a-z]でマッチした文字全てを表せられる。\n",
    "次にord()でUnicode変換。chr()でUnicodeを文字変換。\n",
    "\"\"\"\n",
    "\n",
    "import re\n",
    "def cipher(x):\n",
    "    return re.sub(r'[a-z]',lambda m: chr(219-ord(m.group(0))),x)\n",
    "\n",
    "a = \"I am Onion\"\n",
    "print(cipher(a)) #暗号化\n",
    "print(cipher(cipher(a))) #複合化\n"
   ]
  },
  {
   "cell_type": "code",
   "execution_count": 12,
   "metadata": {},
   "outputs": [
    {
     "name": "stdout",
     "output_type": "stream",
     "text": [
      "I c'udnolt bveeile that I cuold actually udnantserd what I was rdeiang : the phneeanoml pewor of the hamun mind . "
     ]
    }
   ],
   "source": [
    "\"\"\"09\n",
    "スペースで区切られた単語列に対して，各単語の先頭と末尾の文字は残し，\n",
    "それ以外の文字の順序をランダムに並び替えるプログラムを作成せよ．\n",
    "ただし，長さが４以下の単語は並び替えないこととする．\n",
    "適当な英語の文（例えば\"I couldn't believe that I could actually understand what I was reading : the phenomenal power of the human mind .\"）を与え，その実行結果を確認せよ．\n",
    "\"\"\"\n",
    "import random\n",
    "\n",
    "def typogly(x):\n",
    "    text = x.split()\n",
    "    for i in text:\n",
    "        if len(i)>4:\n",
    "            mid = list(i[1:-1])\n",
    "            random.shuffle(mid)#shuffleはリストの順序をランダムにならべかえる。\n",
    "            i = i[0] + \"\".join(mid) + i[-1]#midはリスト型でstrと加算できないから.joinで戻してあげる。\n",
    "        print(i,end=\" \")\n",
    "\n",
    "text = \"I couldn't believe that I could actually understand what I was reading : the phenomenal power of the human mind .\"\n",
    "typogly(text)"
   ]
  },
  {
   "cell_type": "code",
   "execution_count": 18,
   "metadata": {},
   "outputs": [
    {
     "name": "stdout",
     "output_type": "stream",
     "text": [
      "length= 22\n"
     ]
    }
   ],
   "source": [
    "#10:行数をカウントせよ．確認にはwcコマンドを用いよ．\n",
    "f = open('data.txt','r') #open('ファイル名','r')で読みこみ専用で開く\n",
    "print(\"length=\",+len(f.readline()))#readline()で行を要素とした配列を得る\n",
    "f.close()#開けたら閉める\n",
    "\n",
    "# ヽ(*ﾟдﾟ)ノ> wc data.txt \n",
    "#       24      98     813 data.txt"
   ]
  },
  {
   "cell_type": "code",
   "execution_count": 49,
   "metadata": {},
   "outputs": [
    {
     "name": "stdout",
     "output_type": "stream",
     "text": [
      "高知県 江川崎 41  2013-08-12\n",
      "\n",
      "埼玉県 熊谷 40.9 2007-08-16\n",
      "\n",
      "岐阜県 多治見 40.9 2007-08-16\n",
      "\n",
      "山形県 山形 40.8 1933-07-25\n",
      "\n",
      "山梨県 甲府 40.7 2013-08-10\n",
      "\n",
      "和歌山県 かつらぎ 40.6 1994-08-08\n",
      "\n",
      "静岡県 天竜 40.6 1994-08-04\n",
      "\n",
      "山梨県 勝沼 40.5 2013-08-10\n",
      "\n",
      "埼玉県 越谷 40.4 2007-08-16\n",
      "\n",
      "群馬県 館林 40.3 2007-08-16\n",
      "\n",
      "群馬県 上里見 40.3 1998-07-04\n",
      "\n",
      "愛知県 愛西 40.3 1994-08-05\n",
      "\n",
      "千葉県 牛久 40.2 2004-07-20\n",
      "\n",
      "静岡県 佐久間 40.2 2001-07-24\n",
      "\n",
      "愛媛県 宇和島 40.2 1927-07-22\n",
      "\n",
      "山形県 酒田 40.1 1978-08-03\n",
      "\n",
      "岐阜県 美濃 40 2007-08-16\n",
      "\n",
      "群馬県 前橋 40 2001-07-24\n",
      "\n",
      "千葉県 茂原 39.9 2013-08-11\n",
      "\n",
      "埼玉県 鳩山 39.9 1997-07-05\n",
      "\n",
      "大阪府 豊中 39.9 1994-08-08\n",
      "\n",
      "山梨県 大月 39.9 1990-07-19\n",
      "\n",
      "山形県 鶴岡 39.9 1978-08-03\n",
      "\n",
      "愛知県 名古屋 39.9 1942-08-02\n",
      "\n"
     ]
    }
   ],
   "source": [
    "#11:タブ1文字につきスペース1文字に置換せよ．確認にはsedコマンド，trコマンド，もしくはexpandコマンドを用いよ．\n",
    "with open('data.txt') as datafile:\n",
    "    for line in datafile:\n",
    "        print(line.replace('\\t',' '))"
   ]
  },
  {
   "cell_type": "code",
   "execution_count": null,
   "metadata": {},
   "outputs": [],
   "source": []
  }
 ],
 "metadata": {
  "kernelspec": {
   "display_name": "Python 3",
   "language": "python",
   "name": "python3"
  },
  "language_info": {
   "codemirror_mode": {
    "name": "ipython",
    "version": 3
   },
   "file_extension": ".py",
   "mimetype": "text/x-python",
   "name": "python",
   "nbconvert_exporter": "python",
   "pygments_lexer": "ipython3",
   "version": "3.7.1"
  }
 },
 "nbformat": 4,
 "nbformat_minor": 2
}
